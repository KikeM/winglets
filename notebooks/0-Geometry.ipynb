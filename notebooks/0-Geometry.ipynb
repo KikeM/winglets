{
 "cells": [
  {
   "cell_type": "code",
   "execution_count": 1,
   "metadata": {},
   "outputs": [],
   "source": [
    "from aerosandbox import *\n",
    "from Geometry import Point\n",
    "from model import generate_winglets, winglet_tip_coordinates"
   ]
  },
  {
   "cell_type": "markdown",
   "metadata": {},
   "source": [
    "## Planform"
   ]
  },
  {
   "cell_type": "code",
   "execution_count": 8,
   "metadata": {},
   "outputs": [],
   "source": [
    "planform = Wing(name=\"main wing\",\n",
    "                xyz_le    = [0,0,0], # Coordinates of the wing's leading edge\n",
    "                symmetric = True,\n",
    "                xsecs     = [ # The wing's cross (\"X\") sections\n",
    "                \n",
    "                # Root\n",
    "                WingXSec(\n",
    "                    xyz_le  = list(WING_LE_LOCATIONS[0]), # Coordinates of the XSec's leading edge, relative to the wing's leading edge.\n",
    "                    chord   = WING_CHORDS[0],\n",
    "                    twist   = 2, # degrees\n",
    "                    airfoil = Airfoil(name=WING_AIRFOIL)),\n",
    "                \n",
    "                # Mid\n",
    "                WingXSec(  \n",
    "                    xyz_le  = list(WING_LE_LOCATIONS[1]),\n",
    "                    chord   = WING_CHORDS[1],\n",
    "                    twist   = 0,\n",
    "                    airfoil = Airfoil(name=WING_AIRFOIL)),\n",
    "                    \n",
    "                # Tip\n",
    "                WingXSec(\n",
    "                    xyz_le  = list(WING_LE_LOCATIONS[2]),\n",
    "                    chord   = WING_CHORDS[2],\n",
    "                    twist   = -2,\n",
    "                    airfoil = Airfoil(name=WING_AIRFOIL))\n",
    "                ],\n",
    "                )"
   ]
  },
  {
   "cell_type": "markdown",
   "metadata": {},
   "source": [
    "---\n",
    "## Winglets "
   ]
  },
  {
   "cell_type": "markdown",
   "metadata": {},
   "source": [
    "### Winglet locations"
   ]
  },
  {
   "cell_type": "code",
   "execution_count": 7,
   "metadata": {},
   "outputs": [],
   "source": [
    "_epsilon_winglet_wing = Point([0,0,0.00])\n",
    "\n",
    "# Slightly separete from the wing\n",
    "WINGLET_LE_LOCATIONS_RHS = WING_LE_LOCATIONS[-1] + _epsilon_winglet_wing\n",
    "\n",
    "# Match TE of wing tip and winglet root chord\n",
    "WINGLET_LE_LOCATIONS_RHS.x += WING_CHORDS[-1] - WINGLET_CHORD_ROOT"
   ]
  },
  {
   "cell_type": "markdown",
   "metadata": {},
   "source": [
    "### Generate winglets"
   ]
  },
  {
   "cell_type": "code",
   "execution_count": 9,
   "metadata": {},
   "outputs": [],
   "source": [
    "winglets = \\\n",
    "generate_winglets(airfoil     = WINGLET_AIRFOIL, \n",
    "                  location_le = WINGLET_LE_LOCATIONS_RHS, \n",
    "                  length      = WINGLET_LENGTH, \n",
    "                  chord       = WINGLET_CHORD_ROOT, \n",
    "                  ratio_taper = WINGLET_TAPER_RATIO, \n",
    "                  sweep       = WINGLET_ANGLES['sweep'], \n",
    "                  cant        = WINGLET_ANGLES['cant'], \n",
    "                  twist       = WINGLET_TWIST)"
   ]
  },
  {
   "cell_type": "markdown",
   "metadata": {},
   "source": [
    "---\n",
    "## Build Airplane"
   ]
  },
  {
   "cell_type": "code",
   "execution_count": 33,
   "metadata": {},
   "outputs": [],
   "source": [
    "wings = []\n",
    "wings.extend([planform])\n",
    "\n",
    "if USE_WINGLET == True:\n",
    "    wings.extend(winglets)\n",
    "else:\n",
    "    pass\n",
    "    \n",
    "glider = Airplane(\n",
    "         name    = \"Ass5 wing\",\n",
    "         xyz_ref = [0, 0, 0], # CG location\n",
    "         wings   = wings)"
   ]
  }
 ],
 "metadata": {
  "kernelspec": {
   "display_name": "Python 3",
   "language": "python",
   "name": "python3"
  },
  "language_info": {
   "codemirror_mode": {
    "name": "ipython",
    "version": 3
   },
   "file_extension": ".py",
   "mimetype": "text/x-python",
   "name": "python",
   "nbconvert_exporter": "python",
   "pygments_lexer": "ipython3",
   "version": "3.6.10"
  }
 },
 "nbformat": 4,
 "nbformat_minor": 4
}
