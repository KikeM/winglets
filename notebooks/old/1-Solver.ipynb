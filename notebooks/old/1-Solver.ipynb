{
 "cells": [
  {
   "cell_type": "code",
   "execution_count": 2,
   "metadata": {},
   "outputs": [],
   "source": [
    "from aerosandbox import *\n",
    "\n",
    "from scipy.optimize import minimize_scalar"
   ]
  },
  {
   "cell_type": "code",
   "execution_count": 1,
   "metadata": {},
   "outputs": [],
   "source": [
    "def run_aero_problem_alpha(alpha):\n",
    "    \"\"\"\n",
    "    Run VLM3 problem for a prescribed angle of attack.\n",
    "    \n",
    "    Parameters\n",
    "    ----------\n",
    "    alpha: float\n",
    "        deg\n",
    "        \n",
    "    Returns\n",
    "    -------\n",
    "    VLM3-like\n",
    "    \"\"\"\n",
    "    \n",
    "    aero_problem = vlm3(airplane = glider,\n",
    "                        op_point = OperatingPoint(velocity = MACH * speed_sound, \n",
    "                                                  alpha    = alpha))\n",
    "\n",
    "    aero_problem.run(verbose = False) # Runs and prints results to console\n",
    "\n",
    "    return aero_problem"
   ]
  },
  {
   "cell_type": "code",
   "execution_count": 2,
   "metadata": {},
   "outputs": [],
   "source": [
    "def find_cl(alpha, cl_target):\n",
    "    \"\"\"\n",
    "    Minimizing function to find the correct angle of attack for \n",
    "    the corresponding lift coefficient.\n",
    "    \n",
    "    Parameters\n",
    "    ----------\n",
    "    alpha: float\n",
    "        deg\n",
    "        \n",
    "    Returns\n",
    "    -------\n",
    "    float\n",
    "    \"\"\"\n",
    "    aero_problem = run_aero_problem_alpha(alpha)\n",
    "\n",
    "    aero_problem.run(verbose = False) # Runs and prints results to console\n",
    "\n",
    "    return (aero_problem.CL - cl_target)**2.0"
   ]
  },
  {
   "cell_type": "code",
   "execution_count": 4,
   "metadata": {},
   "outputs": [],
   "source": [
    "def run_aero_problem_cl(cl):\n",
    "    \"\"\"\n",
    "    Run VLM3 problem for a prescribed angle of attack.\n",
    "    \n",
    "    Parameters\n",
    "    ----------\n",
    "    cl: float\n",
    "        \n",
    "    Returns\n",
    "    -------\n",
    "    VLM3-like\n",
    "    \"\"\"\n",
    "    sol = minimize_scalar(find_cl, args = (cl), options = dict(maxiter = 1000))\n",
    "\n",
    "    if sol.success == True:\n",
    "\n",
    "        alpha = sol.x\n",
    "\n",
    "        aero_problem = run_aero_problem_alpha(alpha)\n",
    "\n",
    "    else:\n",
    "        raise ValueError('No convergence')\n",
    "\n",
    "    return aero_problem"
   ]
  },
  {
   "cell_type": "code",
   "execution_count": null,
   "metadata": {},
   "outputs": [],
   "source": []
  }
 ],
 "metadata": {
  "kernelspec": {
   "display_name": "Python 3",
   "language": "python",
   "name": "python3"
  },
  "language_info": {
   "codemirror_mode": {
    "name": "ipython",
    "version": 3
   },
   "file_extension": ".py",
   "mimetype": "text/x-python",
   "name": "python",
   "nbconvert_exporter": "python",
   "pygments_lexer": "ipython3",
   "version": "3.6.10"
  }
 },
 "nbformat": 4,
 "nbformat_minor": 4
}
