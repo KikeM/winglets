{
 "cells": [
  {
   "cell_type": "code",
   "execution_count": 1,
   "metadata": {},
   "outputs": [],
   "source": [
    "%load_ext autoreload\n",
    "%autoreload 2"
   ]
  },
  {
   "cell_type": "code",
   "execution_count": 2,
   "metadata": {},
   "outputs": [],
   "source": [
    "from aerosandbox import *\n",
    "\n",
    "import matplotlib.pyplot as plt\n",
    "from Geometry import Point\n",
    "\n",
    "from model import make_symmetric, generate_winglets\n",
    "\n",
    "from fluids.atmosphere import ATMOSPHERE_1976\n",
    "\n",
    "from scipy.optimize import minimize_scalar"
   ]
  },
  {
   "cell_type": "markdown",
   "metadata": {},
   "source": [
    "## Operation point"
   ]
  },
  {
   "cell_type": "code",
   "execution_count": 3,
   "metadata": {},
   "outputs": [],
   "source": [
    "ALTITUDE = 11000\n",
    "MACH     = 0.75\n",
    "CL       = 0.45"
   ]
  },
  {
   "cell_type": "code",
   "execution_count": 4,
   "metadata": {},
   "outputs": [],
   "source": [
    "atmosphere = ATMOSPHERE_1976(ALTITUDE)\n",
    "\n",
    "speed_sound = atmosphere.sonic_velocity(atmosphere.T)"
   ]
  },
  {
   "cell_type": "markdown",
   "metadata": {},
   "source": [
    "## Geometry definitions"
   ]
  },
  {
   "cell_type": "markdown",
   "metadata": {},
   "source": [
    "### Main wing definition\n",
    "\n",
    "Define the wing parameters with the axes defined towards the right-side wing."
   ]
  },
  {
   "cell_type": "code",
   "execution_count": 5,
   "metadata": {},
   "outputs": [],
   "source": [
    "WING_AIRFOIL = 'naca4412'\n",
    "\n",
    "WING_CHORDS       = [5.6, 3.6, 1.26]\n",
    "WING_LE_LOCATIONS = [Point([0.0,   0.0,  0.0]), \n",
    "                     Point([2.34,  4.6,  0.2]), \n",
    "                     Point([5.5,  14.04, 0.61])]"
   ]
  },
  {
   "cell_type": "markdown",
   "metadata": {},
   "source": [
    "### Winglet definition"
   ]
  },
  {
   "cell_type": "code",
   "execution_count": 6,
   "metadata": {},
   "outputs": [],
   "source": [
    "WINGLET_AIRFOIL = 'naca0012'\n",
    "\n",
    "WINGLET_TAPER_RATIO = 0.32\n",
    "\n",
    "WINGLET_ANGLES = dict(sweep = 38, \n",
    "                      cant  = 90) # deg\n",
    "\n",
    "# Convert to radians\n",
    "WINGLET_ANGLES = dict((key, np.deg2rad(angle)) for key, angle in WINGLET_ANGLES.items())\n",
    "\n",
    "wing_span = WING_LE_LOCATIONS[-1].y\n",
    "WINGLET_LENGTH     = 0.05 * wing_span # meters\n",
    "WINGLET_CHORD_ROOT = 0.65 * WING_CHORDS[-1] # m\n",
    "\n",
    "# These are not converted to radians because AeroSandbox takes them as degrees\n",
    "WINGLET_TWIST = dict(root = 0,\n",
    "                     tip  = 0)"
   ]
  },
  {
   "cell_type": "code",
   "execution_count": 7,
   "metadata": {},
   "outputs": [],
   "source": [
    "_epsilon_winglet_wing = Point([0,0,0.00])\n",
    "\n",
    "# Slightly separete from the wing\n",
    "WINGLET_LE_LOCATIONS_RHS = WING_LE_LOCATIONS[-1] + _epsilon_winglet_wing\n",
    "\n",
    "# Match TE of wing tip and winglet root chord\n",
    "WINGLET_LE_LOCATIONS_RHS.x += WING_CHORDS[-1] - WINGLET_CHORD_ROOT"
   ]
  },
  {
   "cell_type": "code",
   "execution_count": 8,
   "metadata": {},
   "outputs": [],
   "source": [
    "planform = Wing(name=\"main wing\",\n",
    "                xyz_le    = [0,0,0], # Coordinates of the wing's leading edge\n",
    "                symmetric = True,\n",
    "                xsecs     = [ # The wing's cross (\"X\") sections\n",
    "                \n",
    "                # Root\n",
    "                WingXSec(\n",
    "                    xyz_le  = list(WING_LE_LOCATIONS[0]), # Coordinates of the XSec's leading edge, relative to the wing's leading edge.\n",
    "                    chord   = WING_CHORDS[0],\n",
    "                    twist   = 2, # degrees\n",
    "                    airfoil = Airfoil(name=WING_AIRFOIL)),\n",
    "                \n",
    "                # Mid\n",
    "                WingXSec(  \n",
    "                    xyz_le  = list(WING_LE_LOCATIONS[1]),\n",
    "                    chord   = WING_CHORDS[1],\n",
    "                    twist   = 0,\n",
    "                    airfoil = Airfoil(name=WING_AIRFOIL)),\n",
    "                    \n",
    "                # Tip\n",
    "                WingXSec(\n",
    "                    xyz_le  = list(WING_LE_LOCATIONS[2]),\n",
    "                    chord   = WING_CHORDS[2],\n",
    "                    twist   = -2,\n",
    "                    airfoil = Airfoil(name=WING_AIRFOIL))\n",
    "                ],\n",
    "                )"
   ]
  },
  {
   "cell_type": "code",
   "execution_count": 9,
   "metadata": {},
   "outputs": [],
   "source": [
    "winglets = \\\n",
    "generate_winglets(airfoil     = WINGLET_AIRFOIL, \n",
    "                  location_le = WINGLET_LE_LOCATIONS_RHS, \n",
    "                  length      = WINGLET_LENGTH, \n",
    "                  chord       = WINGLET_CHORD_ROOT, \n",
    "                  ratio_taper = WINGLET_TAPER_RATIO, \n",
    "                  sweep       = WINGLET_ANGLES['sweep'], \n",
    "                  cant        = WINGLET_ANGLES['cant'], \n",
    "                  twist       = WINGLET_TWIST)"
   ]
  },
  {
   "cell_type": "markdown",
   "metadata": {},
   "source": [
    "Group all wings"
   ]
  },
  {
   "cell_type": "code",
   "execution_count": 33,
   "metadata": {},
   "outputs": [],
   "source": [
    "wings = []\n",
    "wings.extend([planform])\n",
    "# wings.extend(winglets)"
   ]
  },
  {
   "cell_type": "code",
   "execution_count": 35,
   "metadata": {},
   "outputs": [],
   "source": [
    "glider = Airplane(\n",
    "         name    = \"Ass5 wing\",\n",
    "         xyz_ref = [0, 0, 0], # CG location\n",
    "         wings   = wings)"
   ]
  },
  {
   "cell_type": "code",
   "execution_count": 41,
   "metadata": {},
   "outputs": [],
   "source": [
    "def run_aero_problem(alpha):\n",
    "    \"\"\"\n",
    "    Run VLM3 problem for a prescribed angle of attack.\n",
    "    \n",
    "    Parameters\n",
    "    ----------\n",
    "    alpha: float\n",
    "        deg\n",
    "        \n",
    "    Returns\n",
    "    -------\n",
    "    VLM3-like\n",
    "    \"\"\"\n",
    "    \n",
    "    aero_problem = vlm3(airplane = glider,\n",
    "                        op_point = OperatingPoint(velocity = MACH * speed_sound, \n",
    "                                                  alpha    = alpha))\n",
    "\n",
    "    aero_problem.run(verbose = False) # Runs and prints results to console\n",
    "\n",
    "    return aero_problem"
   ]
  },
  {
   "cell_type": "code",
   "execution_count": 37,
   "metadata": {},
   "outputs": [],
   "source": [
    "def find_cl(alpha):\n",
    "    \"\"\"\n",
    "    Minimizing function to find the correct angle of attack for \n",
    "    the corresponding lift coefficient.\n",
    "    \n",
    "    Parameters\n",
    "    ----------\n",
    "    alpha: float\n",
    "        deg\n",
    "        \n",
    "    Returns\n",
    "    -------\n",
    "    float\n",
    "    \"\"\"\n",
    "    aero_problem = run_aero_problem(alpha)\n",
    "\n",
    "    aero_problem.run(verbose = False) # Runs and prints results to console\n",
    "\n",
    "    return (aero_problem.CL - CL)**2.0"
   ]
  },
  {
   "cell_type": "code",
   "execution_count": 38,
   "metadata": {},
   "outputs": [],
   "source": [
    "sol = minimize_scalar(find_cl)\n",
    "\n",
    "if sol.success == True:\n",
    "    \n",
    "    alpha = sol.x\n",
    "\n",
    "    aero_problem = run_aero_problem(alpha)\n",
    "    \n",
    "else:\n",
    "    raise ValueError('No convergence')"
   ]
  },
  {
   "cell_type": "code",
   "execution_count": 42,
   "metadata": {},
   "outputs": [
    {
     "data": {
      "text/plain": [
       "0.004914480247384452"
      ]
     },
     "execution_count": 42,
     "metadata": {},
     "output_type": "execute_result"
    }
   ],
   "source": [
    "aero_problem.CDi"
   ]
  },
  {
   "cell_type": "code",
   "execution_count": null,
   "metadata": {},
   "outputs": [],
   "source": []
  },
  {
   "cell_type": "code",
   "execution_count": null,
   "metadata": {},
   "outputs": [],
   "source": []
  },
  {
   "cell_type": "code",
   "execution_count": null,
   "metadata": {},
   "outputs": [],
   "source": []
  }
 ],
 "metadata": {
  "kernelspec": {
   "display_name": "Python 3",
   "language": "python",
   "name": "python3"
  },
  "language_info": {
   "codemirror_mode": {
    "name": "ipython",
    "version": 3
   },
   "file_extension": ".py",
   "mimetype": "text/x-python",
   "name": "python",
   "nbconvert_exporter": "python",
   "pygments_lexer": "ipython3",
   "version": "3.6.10"
  }
 },
 "nbformat": 4,
 "nbformat_minor": 4
}
