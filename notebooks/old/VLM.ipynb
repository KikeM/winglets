{
 "cells": [
  {
   "cell_type": "code",
   "execution_count": 28,
   "metadata": {},
   "outputs": [
    {
     "name": "stdout",
     "output_type": "stream",
     "text": [
      "The autoreload extension is already loaded. To reload it, use:\n",
      "  %reload_ext autoreload\n"
     ]
    }
   ],
   "source": [
    "%load_ext autoreload\n",
    "%autoreload 2"
   ]
  },
  {
   "cell_type": "code",
   "execution_count": 29,
   "metadata": {},
   "outputs": [],
   "source": [
    "from aerosandbox import *\n",
    "\n",
    "import matplotlib.pyplot as plt\n",
    "from Geometry import Point\n",
    "\n",
    "plt.style.use('ggplot')\n",
    "\n",
    "import pandas as pd\n",
    "import numpy as np\n",
    "\n",
    "from tqdm import tqdm as tqdm\n",
    "\n",
    "from fluids.atmosphere import ATMOSPHERE_1976"
   ]
  },
  {
   "cell_type": "markdown",
   "metadata": {},
   "source": [
    "## Operation point"
   ]
  },
  {
   "cell_type": "code",
   "execution_count": 30,
   "metadata": {},
   "outputs": [],
   "source": [
    "ALTITUDE = 11000\n",
    "MACH     = 0.75\n",
    "CL       = 0.45"
   ]
  },
  {
   "cell_type": "code",
   "execution_count": 31,
   "metadata": {},
   "outputs": [],
   "source": [
    "atmosphere = ATMOSPHERE_1976(ALTITUDE)\n",
    "\n",
    "speed_sound = atmosphere.sonic_velocity(atmosphere.T)"
   ]
  },
  {
   "cell_type": "markdown",
   "metadata": {},
   "source": [
    "## Geometry definitions"
   ]
  },
  {
   "cell_type": "markdown",
   "metadata": {},
   "source": [
    "### Main wing definition\n",
    "\n",
    "Define the wing parameters with the axes defined towards the right-side wing."
   ]
  },
  {
   "cell_type": "code",
   "execution_count": 32,
   "metadata": {},
   "outputs": [],
   "source": [
    "WING_AIRFOIL = 'naca4412'\n",
    "\n",
    "WING_CHORDS       = [5.6, 3.6, 1.26]\n",
    "WING_LE_LOCATIONS = [Point([0.0,   0.0,  0.0]), \n",
    "                     Point([2.34,  4.6,  0.2]), \n",
    "                     Point([5.5,  14.04, 0.61])]"
   ]
  },
  {
   "cell_type": "markdown",
   "metadata": {},
   "source": [
    "### Winglet definition"
   ]
  },
  {
   "cell_type": "code",
   "execution_count": 33,
   "metadata": {},
   "outputs": [],
   "source": [
    "WINGLET_AIRFOIL = 'naca0012'\n",
    "\n",
    "WINGLET_TAPER_RATIO = 0.32\n",
    "\n",
    "WINGLET_ANGLES = dict(sweep = 38, \n",
    "                      cant  = 0) # deg\n",
    "\n",
    "# Convert to radians\n",
    "WINGLET_ANGLES = dict((key, np.deg2rad(angle)) for key, angle in WINGLET_ANGLES.items())\n",
    "\n",
    "wing_span = WING_LE_LOCATIONS[-1].y\n",
    "WINGLET_LENGTH     = 0.05 * wing_span # meters\n",
    "WINGLET_CHORD_ROOT = 0.65 * WING_CHORDS[-1] # m\n",
    "\n",
    "# These are not converted to radians because AeroSandbox takes them as degrees\n",
    "WINGLET_TWIST = dict(root = 0,\n",
    "                     tip  = 0)"
   ]
  },
  {
   "cell_type": "code",
   "execution_count": 34,
   "metadata": {},
   "outputs": [
    {
     "name": "stderr",
     "output_type": "stream",
     "text": [
      "100%|██████████| 10/10 [00:57<00:00,  5.71s/it]\n"
     ]
    }
   ],
   "source": [
    "N_cant = 10\n",
    "\n",
    "results = []\n",
    "\n",
    "for cant in tqdm(np.linspace(0, 90, N_cant)):\n",
    "    \n",
    "    WINGLET_ANGLES['cant'] = np.deg2rad(cant)\n",
    "    \n",
    "    USE_WINGLET = True\n",
    "    \n",
    "    %run 0-Geometry.ipynb\n",
    "    %run 1-Solver.ipynb\n",
    "\n",
    "    aero_problem = run_aero_problem_cl(0.45)\n",
    "\n",
    "    results.append((cant, aero_problem.op_point.alpha, aero_problem.CDi))"
   ]
  },
  {
   "cell_type": "code",
   "execution_count": 35,
   "metadata": {},
   "outputs": [],
   "source": [
    "results_df = pd.DataFrame(results, columns = ['cant', 'alpha', 'CDi'])\n",
    "\n",
    "results_df = results_df.set_index('cant')"
   ]
  },
  {
   "cell_type": "code",
   "execution_count": 36,
   "metadata": {},
   "outputs": [
    {
     "data": {
      "text/plain": [
       "<matplotlib.axes._subplots.AxesSubplot at 0x12b98f6a0>"
      ]
     },
     "execution_count": 36,
     "metadata": {},
     "output_type": "execute_result"
    },
    {
     "data": {
      "image/png": "[encoded data removed]",
      "text/plain": [
       "<Figure size 432x288 with 1 Axes>"
      ]
     },
     "metadata": {},
     "output_type": "display_data"
    }
   ],
   "source": [
    "results_df.query('CDi>0')['CDi'].plot()"
   ]
  },
  {
   "cell_type": "code",
   "execution_count": 37,
   "metadata": {},
   "outputs": [
    {
     "data": {
      "text/plain": [
       "<matplotlib.axes._subplots.AxesSubplot at 0x139ffe470>"
      ]
     },
     "execution_count": 37,
     "metadata": {},
     "output_type": "execute_result"
    },
    {
     "data": {
      "image/png": "[encoded data removed]",
      "text/plain": [
       "<Figure size 432x288 with 1 Axes>"
      ]
     },
     "metadata": {},
     "output_type": "display_data"
    }
   ],
   "source": [
    "results_df['CDi'].plot()"
   ]
  },
  {
   "cell_type": "code",
   "execution_count": null,
   "metadata": {},
   "outputs": [],
   "source": []
  }
 ],
 "metadata": {
  "kernelspec": {
   "display_name": "Python 3",
   "language": "python",
   "name": "python3"
  },
  "language_info": {
   "codemirror_mode": {
    "name": "ipython",
    "version": 3
   },
   "file_extension": ".py",
   "mimetype": "text/x-python",
   "name": "python",
   "nbconvert_exporter": "python",
   "pygments_lexer": "ipython3",
   "version": "3.6.10"
  }
 },
 "nbformat": 4,
 "nbformat_minor": 4
}
